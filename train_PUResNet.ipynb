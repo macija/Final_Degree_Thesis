{
 "cells": [
  {
   "cell_type": "markdown",
   "id": "172df2ca",
   "metadata": {},
   "source": [
    "How to add an environment to Jupyter Notebook:<br>\n",
    "`\n",
    "conda env list\n",
    "conda install -c anaconda ipykernel\n",
    "python -m ipykernel install --user --name=EnvironmentName\n",
    "`\n",
    "\n",
    "What I have added in TrialEnv2:<br>\n",
    "`\n",
    "conda install python=3.10\n",
    "conda install numpy\n",
    "conda install -c conda-forge openbabel\n",
    "conda install pandas\n",
    "conda install -c conda-forge rdkit\n",
    "conda install -c anaconda scikit-learn\n",
    "`"
   ]
  },
  {
   "cell_type": "code",
   "execution_count": null,
   "id": "1ebd68f3",
   "metadata": {},
   "outputs": [
    {
     "ename": "",
     "evalue": "",
     "output_type": "error",
     "traceback": [
      "\u001b[1;31mRunning cells with 'Python 3.9.10' requires the ipykernel package.\n",
      "\u001b[1;31mRun the following command to install 'ipykernel' into the Python environment. \n",
      "\u001b[1;31mCommand: 'c:/msys64/mingw64/bin/python.exe -m pip install ipykernel -U --user --force-reinstall'"
     ]
    }
   ],
   "source": [
    "#!conda install -y -c conda-forge openbabel\n",
    "#Import files\n",
    "import os\n",
    "import warnings\n",
    "import numpy as np\n",
    "import keras\n",
    "import keras.backend as K\n",
    "from openbabel import pybel, openbabel\n",
    "from sklearn.model_selection import train_test_split\n",
    "\n",
    "from data import Featurizer, make_grid\n",
    "from .net.PUResNet import PUResNet\n",
    "from train_functions import get_grids, get_training_data, DiceLoss\n",
    "\n",
    "data_folder_path = \"../../TrainData/train_test_families_1rep\" # Poner nombre del zip"
   ]
  },
  {
   "cell_type": "markdown",
   "id": "d1aafd39",
   "metadata": {},
   "source": [
    "## Prepare the data"
   ]
  },
  {
   "cell_type": "code",
   "execution_count": null,
   "id": "3ba10cfe",
   "metadata": {},
   "outputs": [
    {
     "ename": "",
     "evalue": "",
     "output_type": "error",
     "traceback": [
      "\u001b[1;31mRunning cells with 'Python 3.9.10' requires the ipykernel package.\n",
      "\u001b[1;31mRun the following command to install 'ipykernel' into the Python environment. \n",
      "\u001b[1;31mCommand: 'c:/msys64/mingw64/bin/python.exe -m pip install ipykernel -U --user --force-reinstall'"
     ]
    }
   ],
   "source": [
    "# To not see any warnings: pybel.ob.obErrorLog.StopLogging()\n",
    "# To see warnings: pybel.ob.obErrorLog.StartLogging()\n",
    "\n",
    "proteins, binding_sites, _ = get_training_data(data_folder_path)"
   ]
  },
  {
   "cell_type": "markdown",
   "id": "6e25fecd",
   "metadata": {},
   "source": [
    "Download and upload the numpy arrays created:"
   ]
  },
  {
   "cell_type": "code",
   "execution_count": null,
   "id": "da68cf67",
   "metadata": {},
   "outputs": [
    {
     "ename": "",
     "evalue": "",
     "output_type": "error",
     "traceback": [
      "\u001b[1;31mRunning cells with 'Python 3.9.10' requires the ipykernel package.\n",
      "\u001b[1;31mRun the following command to install 'ipykernel' into the Python environment. \n",
      "\u001b[1;31mCommand: 'c:/msys64/mingw64/bin/python.exe -m pip install ipykernel -U --user --force-reinstall'"
     ]
    }
   ],
   "source": [
    "# Download training data\n",
    "# np.save(data_folder_path+'_proteins.npy', proteins)\n",
    "# np.save(data_folder_path+'_binding_sites.npy', binding_sites)"
   ]
  },
  {
   "cell_type": "code",
   "execution_count": null,
   "id": "edea7e83",
   "metadata": {},
   "outputs": [
    {
     "ename": "",
     "evalue": "",
     "output_type": "error",
     "traceback": [
      "\u001b[1;31mRunning cells with 'Python 3.9.10' requires the ipykernel package.\n",
      "\u001b[1;31mRun the following command to install 'ipykernel' into the Python environment. \n",
      "\u001b[1;31mCommand: 'c:/msys64/mingw64/bin/python.exe -m pip install ipykernel -U --user --force-reinstall'"
     ]
    }
   ],
   "source": [
    "# Upload training data\n",
    "proteins = np.load(data_folder_path+'_proteins.npy')\n",
    "binding_sites = np.load(data_folder_path+'_binding_sites.npy')"
   ]
  },
  {
   "cell_type": "code",
   "execution_count": null,
   "id": "89781af5",
   "metadata": {},
   "outputs": [
    {
     "ename": "",
     "evalue": "",
     "output_type": "error",
     "traceback": [
      "\u001b[1;31mRunning cells with 'Python 3.9.10' requires the ipykernel package.\n",
      "\u001b[1;31mRun the following command to install 'ipykernel' into the Python environment. \n",
      "\u001b[1;31mCommand: 'c:/msys64/mingw64/bin/python.exe -m pip install ipykernel -U --user --force-reinstall'"
     ]
    }
   ],
   "source": [
    "# Check that the two sets have the same number of training parameters\n",
    "print(proteins.shape)\n",
    "print(binding_sites.shape)"
   ]
  },
  {
   "cell_type": "code",
   "execution_count": null,
   "id": "adadc1c2",
   "metadata": {},
   "outputs": [
    {
     "ename": "",
     "evalue": "",
     "output_type": "error",
     "traceback": [
      "\u001b[1;31mRunning cells with 'Python 3.9.10' requires the ipykernel package.\n",
      "\u001b[1;31mRun the following command to install 'ipykernel' into the Python environment. \n",
      "\u001b[1;31mCommand: 'c:/msys64/mingw64/bin/python.exe -m pip install ipykernel -U --user --force-reinstall'"
     ]
    }
   ],
   "source": [
    "# Separate between train and test sets\n",
    "X_train, X_test, y_train, y_test = train_test_split(proteins, \n",
    "                                                    binding_sites, \n",
    "                                                    test_size=0.2, \n",
    "                                                    random_state=42)"
   ]
  },
  {
   "cell_type": "markdown",
   "id": "602d2bf6",
   "metadata": {},
   "source": [
    "## Train the model"
   ]
  },
  {
   "cell_type": "code",
   "execution_count": null,
   "id": "01593db6",
   "metadata": {},
   "outputs": [
    {
     "ename": "",
     "evalue": "",
     "output_type": "error",
     "traceback": [
      "\u001b[1;31mRunning cells with 'Python 3.9.10' requires the ipykernel package.\n",
      "\u001b[1;31mRun the following command to install 'ipykernel' into the Python environment. \n",
      "\u001b[1;31mCommand: 'c:/msys64/mingw64/bin/python.exe -m pip install ipykernel -U --user --force-reinstall'"
     ]
    }
   ],
   "source": [
    "# I have based myself on this tutorial:\n",
    "# https://keras.io/examples/vision/3D_image_classification/\n",
    "\n",
    "## DEFINE VARIABLES ##\n",
    "# In the paper, a batch size of 5 was used.\n",
    "# They also found DiceLoss to be the best loss function to train the model\n",
    "batch_size = 5\n",
    "epochs = 300\n",
    "loss_function = DiceLoss\n",
    "\n",
    "\n",
    "## DEFINE CALLBACKS ##\n",
    "# A Callback is an object that can perform actions at various stages of training\n",
    "# ModelCheckpoint will save the best weights of the training\n",
    "# EarlyStopping stops the training when val_loss stops improving\n",
    "checkpoint_cb = keras.callbacks.ModelCheckpoint(\n",
    "    filepath=data_folder_path+\"_best_weights.h5\",\n",
    "    monitor = \"val_loss\",\n",
    "    save_best_only=True)\n",
    "early_stopping_cb = keras.callbacks.EarlyStopping(monitor=\"val_loss\", \n",
    "                                                  patience=15)\n",
    "\n",
    "## TRAIN THE MODEL ##\n",
    "# HERE IS WHERE THE FINE TUNNING SHOULD BE MADE\n",
    "model = PUResNet()\n",
    "model.compile(loss=loss_function, optimizer=\"adam\", \n",
    "              metrics=[\"accuracy\"])\n",
    "\n",
    "model.fit(X_train, y_train, \n",
    "          batch_size=batch_size, epochs=epochs, \n",
    "          validation_split=0.1, shuffle=True,\n",
    "          callbacks=[checkpoint_cb, early_stopping_cb])"
   ]
  },
  {
   "cell_type": "markdown",
   "id": "d9ab7824",
   "metadata": {},
   "source": [
    "## Visualise the model"
   ]
  },
  {
   "cell_type": "code",
   "execution_count": null,
   "id": "13a15195",
   "metadata": {},
   "outputs": [
    {
     "ename": "",
     "evalue": "",
     "output_type": "error",
     "traceback": [
      "\u001b[1;31mRunning cells with 'Python 3.9.10' requires the ipykernel package.\n",
      "\u001b[1;31mRun the following command to install 'ipykernel' into the Python environment. \n",
      "\u001b[1;31mCommand: 'c:/msys64/mingw64/bin/python.exe -m pip install ipykernel -U --user --force-reinstall'"
     ]
    }
   ],
   "source": [
    "np.save(data_folder_path+'_accuracy.npy', model.history.history[\"accuracy\"])\n",
    "np.save(data_folder_path+'_val_loss.npy', model.history.history[\"val_loss\"])"
   ]
  },
  {
   "cell_type": "code",
   "execution_count": null,
   "id": "78dd7a67",
   "metadata": {},
   "outputs": [
    {
     "ename": "",
     "evalue": "",
     "output_type": "error",
     "traceback": [
      "\u001b[1;31mRunning cells with 'Python 3.9.10' requires the ipykernel package.\n",
      "\u001b[1;31mRun the following command to install 'ipykernel' into the Python environment. \n",
      "\u001b[1;31mCommand: 'c:/msys64/mingw64/bin/python.exe -m pip install ipykernel -U --user --force-reinstall'"
     ]
    }
   ],
   "source": [
    "# Visualize the performance of the model\n",
    "import matplotlib.pyplot as plt\n",
    "\n",
    "fig, ax = plt.subplots(1, 2, figsize=(20, 3))\n",
    "ax = ax.ravel()\n",
    "\n",
    "for i, metric in enumerate([\"accuracy\", \"loss\"]):\n",
    "    ax[i].plot(model.history.history[metric])\n",
    "    ax[i].plot(model.history.history[\"val_\" + metric])\n",
    "    ax[i].set_title(\"Model {}\".format(metric))\n",
    "    ax[i].set_xlabel(\"epochs\")\n",
    "    ax[i].set_ylabel(metric)\n",
    "    ax[i].legend([\"train\", \"val\"])\n",
    "    \n",
    "# Save into Data\n",
    "plt.savefig(data_folder_path+'.png')"
   ]
  },
  {
   "attachments": {},
   "cell_type": "markdown",
   "id": "8fd60887",
   "metadata": {},
   "source": [
    "Info:\n",
    "* train_test_subset_2000: trained with batch_size=5, early_stopping_cb=\"val_loss\", patience = 15, trained during 25 epochs"
   ]
  }
 ],
 "metadata": {
  "kernelspec": {
   "display_name": "Python 3",
   "language": "python",
   "name": "python3"
  },
  "language_info": {
   "name": "python",
   "version": "3.9.10"
  }
 },
 "nbformat": 4,
 "nbformat_minor": 5
}
